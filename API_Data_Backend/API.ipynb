{
 "cells": [
  {
   "cell_type": "markdown",
   "metadata": {},
   "source": [
    "Use API to pull articles from New York Times"
   ]
  },
  {
   "cell_type": "code",
   "execution_count": null,
   "metadata": {},
   "outputs": [],
   "source": [
    "import requests\n",
    "import time\n",
    "import json\n",
    "API_KEY='DdqoGgYwW48hWMwaTueoxG4ImGJWo0sv'\n",
    "\n",
    "\n",
    "for i in range(100):\n",
    "    url='https://api.nytimes.com/svc/search/v2/articlesearch.json?q=corruption&api-key=DdqoGgYwW48hWMwaTueoxG4ImGJWo0sv'\n",
    "    Pull=requests.get(url)\n",
    "    pull=Pull.json()\n",
    "    time.sleep(10)\n",
    "pull\n",
    "\n",
    "\n",
    "# url='https://api.nytimes.com/svc/search/v2/articlesearch.json?q=corruption&api-key=DdqoGgYwW48hWMwaTueoxG4ImGJWo0sv'\n",
    "# keys={\n",
    "#     'Authorization':f'Bearer:{API_KEY}'\n",
    "#     }\n",
    "# Pull=requests.get(url)\n",
    "# pull=Pull.json()\n",
    "\n"
   ]
  },
  {
   "cell_type": "code",
   "execution_count": null,
   "metadata": {},
   "outputs": [],
   "source": [
    "print(pull)"
   ]
  },
  {
   "cell_type": "markdown",
   "metadata": {},
   "source": [
    "Format pulled JSONs"
   ]
  },
  {
   "cell_type": "code",
   "execution_count": null,
   "metadata": {},
   "outputs": [],
   "source": [
    "articles=[]\n",
    "documents=pull['response']['docs']\n",
    "for doc in documents:\n",
    "    parseddoc={}\n",
    "    parseddoc['title']=doc['abstract']\n",
    "    parseddoc['paragraph']=doc['lead_paragraph']\n",
    "    articles.append(parseddoc)\n",
    "\n",
    "articles[:10]\n"
   ]
  },
  {
   "cell_type": "markdown",
   "metadata": {},
   "source": []
  }
 ],
 "metadata": {
  "kernelspec": {
   "display_name": "Python 3",
   "language": "python",
   "name": "python3"
  },
  "language_info": {
   "codemirror_mode": {
    "name": "ipython",
    "version": 3
   },
   "file_extension": ".py",
   "mimetype": "text/x-python",
   "name": "python",
   "nbconvert_exporter": "python",
   "pygments_lexer": "ipython3",
   "version": "3.9.6"
  }
 },
 "nbformat": 4,
 "nbformat_minor": 2
}
